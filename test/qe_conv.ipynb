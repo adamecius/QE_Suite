{
 "cells": [
  {
   "cell_type": "code",
   "execution_count": 16,
   "id": "thick-detail",
   "metadata": {},
   "outputs": [],
   "source": []
  },
  {
   "cell_type": "code",
   "execution_count": 3,
   "id": "respective-island",
   "metadata": {},
   "outputs": [
    {
     "name": "stdout",
     "output_type": "stream",
     "text": [
      "running input:  CrBrS.scf.wfc30.0.in\n",
      "data saved at:  CrBrS.scf.wfc30.0.out\n",
      "running input:  CrBrS.scf.wfc45.0.in\n",
      "data saved at:  CrBrS.scf.wfc45.0.out\n",
      "running input:  CrBrS.scf.wfc60.0.in\n",
      "data saved at:  CrBrS.scf.wfc60.0.out\n",
      "converged wf= 60.0  led to a threshold smaller than  1e-06\n"
     ]
    },
    {
     "data": {
      "image/png": "[encoded data removed]",
      "text/plain": [
       "<Figure size 432x288 with 1 Axes>"
      ]
     },
     "metadata": {
      "needs_background": "light"
     },
     "output_type": "display_data"
    },
    {
     "name": "stdout",
     "output_type": "stream",
     "text": [
      "running input:  CrBrS.scf.kp1.in\n",
      "data saved at:  CrBrS.scf.kp1.out\n",
      "running input:  CrBrS.scf.kp6.in\n",
      "data saved at:  CrBrS.scf.kp6.out\n",
      "running input:  CrBrS.scf.kp11.in\n",
      "data saved at:  CrBrS.scf.kp11.out\n",
      "running input:  CrBrS.scf.kp16.in\n",
      "data saved at:  CrBrS.scf.kp16.out\n",
      "converged kp= 16  led to a threshold smaller than  1e-06\n"
     ]
    },
    {
     "data": {
      "image/png": "[encoded data removed]",
      "text/plain": [
       "<Figure size 432x288 with 1 Axes>"
      ]
     },
     "metadata": {
      "needs_background": "light"
     },
     "output_type": "display_data"
    }
   ],
   "source": [
    "import qetools as qt\n",
    "import numpy as np\n",
    "import matplotlib.pyplot as plt\n",
    "\n",
    "\n",
    "import subprocess, os\n",
    "my_env = os.environ.copy()\n",
    "my_env[\"OMP_NUM_THREADS\"] = \"1\";\n",
    "\n",
    "num_proc = 20;\n",
    "inputf= \"CrBrS.scf.in\";\n",
    "QEnl  = qt.read_QEnamelist(inputf);\n",
    "\n",
    "atm_spec = [\n",
    "    [\"Cr\", \"51.996\", \"cr_pbe_v1.5.uspp.F.UPF\"],\n",
    "    [\"Br\", \"79.901\", \"br_pbe_v1.4.uspp.F.UPF\"],\n",
    "    [\"S\" , \"32.059\", \"s_pbe_v1.4.uspp.F.UPF\" ],  \n",
    "];\n",
    "\n",
    "atm_pos = [\n",
    "    [\"Cr\", [0.5,0.0,0.4509482228] ],\n",
    "    [\"Cr\", [0.0,0.5,0.5490282197] ],\n",
    "    [\"Br\", [0.5,0.5,0.3669391845] ],\n",
    "    [\"Br\", [0.0,0.0,0.6330375943] ],\n",
    "    [\"S\" , [0.0,0.0,0.4744518082] ],\n",
    "    [\"S\" , [0.5,0.5,0.5255249704] ],\n",
    "];\n",
    "\n",
    "kpoints = [10,10,1,1,1,1];\n",
    "\n",
    "\n",
    "#WFC convergence:\n",
    "wfc_conv= 0;\n",
    "wfc_min = 30;\n",
    "wfc_max = 60;\n",
    "wfcoffs = np.linspace(wfc_min, wfc_max, 3, endpoint=True );\n",
    "\n",
    "energies=[];\n",
    "filename = inputf.replace(\".in\",\"\");\n",
    "for wfc in wfcoffs:\n",
    "    QEnl[\"&SYSTEM\"][\"ecutwfc\"] = wfc; \n",
    "    QEnl[\"&SYSTEM\"][\"ecutrho\"] = 10*wfc; \n",
    "    ifilename = filename+\".wfc\"+str(wfc)+\".in\";\n",
    "    ofilename = filename+\".wfc\"+str(wfc)+\".out\"\n",
    "    qt.write_QEnamelist(QEnl,ifilename);\n",
    "    qt.write_atomic_specties(atm_spec,ifilename);\n",
    "    qt.write_atomic_positions(atm_pos, ifilename);\n",
    "    qt.write_kpoints(kpoints, ifilename);\n",
    "\n",
    "    print(\"running input: \",ifilename);\n",
    "    #ofile = open(ofilename, \"w\")\n",
    "    #subprocess.run([\"mpirun\", \"-np\", str(num_proc), \"pw.x\", \"-inp\", ifilename], stdout=ofile, env=my_env);\n",
    "    #ofile.close();\n",
    "    print(\"data saved at: \",ofilename);\n",
    "\n",
    "    energy = qt.read_finalenergy(ofilename);\n",
    "    energies.append(energy);\n",
    "    \n",
    "    tol = 1e-6;\n",
    "    if qt.is_converged( energies, tol=tol):\n",
    "        print(\"converged wf=\",wfc,\" led to a threshold smaller than \", tol)\n",
    "        wfc_conv = wfc;\n",
    "        break;\n",
    "\n",
    "qt.plot_conv(wfcoffs,energies, \"wfc_convergence.pdf\");\n",
    "plt.show()\n",
    "\n",
    "#KPOINT convergence:\n",
    "kp_conv= 0;\n",
    "\n",
    "kpmin = 1;\n",
    "kpmax = 100;\n",
    "kps   = np.arange(kpmin,kpmax, 5 );\n",
    "\n",
    "kshift= 0 \n",
    "energies=[];\n",
    "filename = inputf.replace(\".in\",\"\");\n",
    "for kp in kps:\n",
    "    QEnl[\"&SYSTEM\"][\"ecutwfc\"] = wfc_conv;\n",
    "    QEnl[\"&SYSTEM\"][\"ecutrho\"] = 10*wfc_conv; \n",
    "    ifilename = filename+\".kp\"+str(kp)+\".in\";\n",
    "    ofilename = filename+\".kp\"+str(kp)+\".out\";\n",
    "    qt.write_QEnamelist(QEnl,ifilename);\n",
    "    qt.write_atomic_specties(atm_spec,ifilename);\n",
    "    qt.write_atomic_positions(atm_pos, ifilename);\n",
    "    #Change shift\n",
    "    kpoints = [kp,kp,1,kshift,kshift,kshift];\n",
    "    qt.write_kpoints(kpoints, ifilename);\n",
    "    print(\"running input: \",ifilename);\n",
    "    #ofile = open(ofilename, \"w\")\n",
    "    #subprocess.run([\"mpirun\", \"-np\", str(num_proc), \"pw.x\", \"-inp\", ifilename], stdout=ofile, env=my_env);\n",
    "    #ofile.close();\n",
    "    print(\"data saved at: \",ofilename);\n",
    "\n",
    "    tol = 1e-6;\n",
    "    if qt.is_converged( energies, tol=tol):\n",
    "        kp_conv = kp;\n",
    "        print(\"converged kp=\",kp_conv,\" led to a threshold smaller than \", tol)\n",
    "        break;\n",
    "        \n",
    "    energy = qt.read_finalenergy(ofilename);\n",
    "    energies.append(energy);\n",
    "\n",
    "qt.plot_conv(kps,energies, \"kp_convergence.pdf\");\n",
    "\n"
   ]
  },
  {
   "cell_type": "code",
   "execution_count": null,
   "id": "reliable-stroke",
   "metadata": {},
   "outputs": [],
   "source": []
  },
  {
   "cell_type": "code",
   "execution_count": 21,
   "id": "three-playlist",
   "metadata": {},
   "outputs": [
    {
     "name": "stdout",
     "output_type": "stream",
     "text": [
      "running input:  CrBrS.scf.kp1.in\n",
      "data saved at:  CrBrS.scf.kp1.out\n",
      "running input:  CrBrS.scf.kp6.in\n",
      "data saved at:  CrBrS.scf.kp6.out\n",
      "running input:  CrBrS.scf.kp11.in\n",
      "data saved at:  CrBrS.scf.kp11.out\n",
      "running input:  CrBrS.scf.kp16.in\n",
      "data saved at:  CrBrS.scf.kp16.out\n",
      "converged kp= 16  led to a threshold smaller than  1e-06\n",
      "[ 1  6 11 16 21 26 31 36 41 46 51 56 61 66 71 76 81 86 91 96]\n"
     ]
    },
    {
     "ename": "IndexError",
     "evalue": "boolean index did not match indexed array along dimension 0; dimension is 20 but corresponding boolean dimension is 3",
     "output_type": "error",
     "traceback": [
      "\u001b[0;31m---------------------------------------------------------------------------\u001b[0m",
      "\u001b[0;31mIndexError\u001b[0m                                Traceback (most recent call last)",
      "\u001b[0;32m<ipython-input-21-9a5613a53c10>\u001b[0m in \u001b[0;36m<module>\u001b[0;34m\u001b[0m\n\u001b[1;32m     37\u001b[0m \u001b[0;34m\u001b[0m\u001b[0m\n\u001b[1;32m     38\u001b[0m \u001b[0mprint\u001b[0m\u001b[0;34m(\u001b[0m\u001b[0mkps\u001b[0m\u001b[0;34m)\u001b[0m\u001b[0;34m\u001b[0m\u001b[0;34m\u001b[0m\u001b[0m\n\u001b[0;32m---> 39\u001b[0;31m \u001b[0mqt\u001b[0m\u001b[0;34m.\u001b[0m\u001b[0mplot_conv\u001b[0m\u001b[0;34m(\u001b[0m\u001b[0mkps\u001b[0m\u001b[0;34m,\u001b[0m\u001b[0menergies\u001b[0m\u001b[0;34m,\u001b[0m \u001b[0;34m\"kp_convergence.pdf\"\u001b[0m\u001b[0;34m)\u001b[0m\u001b[0;34m;\u001b[0m\u001b[0;34m\u001b[0m\u001b[0;34m\u001b[0m\u001b[0m\n\u001b[0m\u001b[1;32m     40\u001b[0m \u001b[0;34m\u001b[0m\u001b[0m\n\u001b[1;32m     41\u001b[0m \u001b[0mprint\u001b[0m\u001b[0;34m(\u001b[0m\u001b[0;34m\"FINISHED\"\u001b[0m\u001b[0;34m)\u001b[0m\u001b[0;34m\u001b[0m\u001b[0;34m\u001b[0m\u001b[0m\n",
      "\u001b[0;32m/data/jgarcia/projects/espresso/CrBrS/convergence_test/qetools.py\u001b[0m in \u001b[0;36mplot_conv\u001b[0;34m(x, y, outputf)\u001b[0m\n\u001b[1;32m     89\u001b[0m \u001b[0;32mdef\u001b[0m \u001b[0mplot_conv\u001b[0m\u001b[0;34m(\u001b[0m\u001b[0mx\u001b[0m\u001b[0;34m,\u001b[0m\u001b[0my\u001b[0m\u001b[0;34m,\u001b[0m \u001b[0moutputf\u001b[0m\u001b[0;34m)\u001b[0m\u001b[0;34m:\u001b[0m\u001b[0;34m\u001b[0m\u001b[0;34m\u001b[0m\u001b[0m\n\u001b[1;32m     90\u001b[0m     \u001b[0my\u001b[0m\u001b[0;34m=\u001b[0m\u001b[0mnp\u001b[0m\u001b[0;34m.\u001b[0m\u001b[0marray\u001b[0m\u001b[0;34m(\u001b[0m\u001b[0my\u001b[0m\u001b[0;34m)\u001b[0m\u001b[0;34m;\u001b[0m\u001b[0;34m\u001b[0m\u001b[0;34m\u001b[0m\u001b[0m\n\u001b[0;32m---> 91\u001b[0;31m     \u001b[0mx\u001b[0m\u001b[0;34m=\u001b[0m\u001b[0mx\u001b[0m\u001b[0;34m[\u001b[0m\u001b[0my\u001b[0m\u001b[0;34m!=\u001b[0m \u001b[0;36m0\u001b[0m\u001b[0;34m]\u001b[0m\u001b[0;34m;\u001b[0m\u001b[0;34m\u001b[0m\u001b[0;34m\u001b[0m\u001b[0m\n\u001b[0m\u001b[1;32m     92\u001b[0m     \u001b[0mx\u001b[0m\u001b[0;34m=\u001b[0m\u001b[0my\u001b[0m\u001b[0;34m[\u001b[0m\u001b[0my\u001b[0m\u001b[0;34m!=\u001b[0m \u001b[0;36m0\u001b[0m\u001b[0;34m]\u001b[0m\u001b[0;34m;\u001b[0m\u001b[0;34m\u001b[0m\u001b[0;34m\u001b[0m\u001b[0m\n\u001b[1;32m     93\u001b[0m \u001b[0;34m\u001b[0m\u001b[0m\n",
      "\u001b[0;31mIndexError\u001b[0m: boolean index did not match indexed array along dimension 0; dimension is 20 but corresponding boolean dimension is 3"
     ]
    }
   ],
   "source": [
    "\n",
    "#KPOINT convergence:\n",
    "kp_conv= 0;\n",
    "\n",
    "kpmin = 1;\n",
    "kpmax = 100;\n",
    "kps   = np.arange(kpmin,kpmax, 5 );\n",
    "\n",
    "kshift= 0 \n",
    "energies=[];\n",
    "filename = inputf.replace(\".in\",\"\");\n",
    "for kp in kps:\n",
    "    QEnl[\"&SYSTEM\"][\"ecutwfc\"] = wfc_conv;\n",
    "    QEnl[\"&SYSTEM\"][\"ecutrho\"] = 10*wfc_conv; \n",
    "    ifilename = filename+\".kp\"+str(kp)+\".in\";\n",
    "    ofilename = filename+\".kp\"+str(kp)+\".out\";\n",
    "    qt.write_QEnamelist(QEnl,ifilename);\n",
    "    qt.write_atomic_specties(atm_spec,ifilename);\n",
    "    qt.write_atomic_positions(atm_pos, ifilename);\n",
    "    #Change shift\n",
    "    kpoints = [kp,kp,1,kshift,kshift,kshift];\n",
    "    qt.write_kpoints(kpoints, ifilename);\n",
    "    print(\"running input: \",ifilename);\n",
    "    #ofile = open(ofilename, \"w\")\n",
    "    #subprocess.run([\"mpirun\", \"-np\", str(num_proc), \"pw.x\", \"-inp\", ifilename], stdout=ofile, env=my_env);\n",
    "    #ofile.close();\n",
    "    print(\"data saved at: \",ofilename);\n",
    "\n",
    "    tol = 1e-6;\n",
    "    if qt.is_converged( energies, tol=tol):\n",
    "        kp_conv = kp;\n",
    "        print(\"converged kp=\",kp_conv,\" led to a threshold smaller than \", tol)\n",
    "        \n",
    "        break;\n",
    "        \n",
    "    energy = qt.read_finalenergy(ofilename);\n",
    "    energies.append(energy);\n",
    "\n",
    "print(kps)\n",
    "qt.plot_conv(kps,energies, \"kp_convergence.pdf\");\n",
    "\n",
    "print(\"FINISHED\")\n"
   ]
  },
  {
   "cell_type": "code",
   "execution_count": 13,
   "id": "civil-republic",
   "metadata": {},
   "outputs": [],
   "source": [
    "#Lattice constant convergence:\n",
    "kp_conv= 0;\n",
    "\n",
    "kpmin = 1;\n",
    "kpmax = 100;\n",
    "kps   = np.arange(kpmin,kpmax, 5 );\n",
    "\n",
    "kshift= 0 \n",
    "energies=[];\n",
    "filename = inputf.replace(\".in\",\"\");\n",
    "for kp in kps:\n",
    "    QEnl[\"&SYSTEM\"][\"ecutwfc\"] = wfc_conv;\n",
    "    QEnl[\"&SYSTEM\"][\"ecutrho\"] = 10*wfc_conv; \n",
    "    ifilename = filename+\".kp\"+str(kp)+\".in\";\n",
    "    ofilename = filename+\".kp\"+str(kp)+\".out\";\n",
    "    qt.write_QEnamelist(QEnl,ifilename);\n",
    "    qt.write_atomic_specties(atm_spec,ifilename);\n",
    "    qt.write_atomic_positions(atm_pos, ifilename);\n",
    "    #Change shift\n",
    "    kpoints = [kp,kp,1,kshift,kshift,kshift];\n",
    "    qt.write_kpoints(kpoints, ifilename);\n",
    "    print(\"running input: \",ifilename);\n",
    "    ofile = open(ofilename, \"w\")\n",
    "    subprocess.run([\"mpirun\", \"-np\", str(num_proc), \"pw.x\", \"-inp\", ifilename], stdout=ofile, env=my_env);\n",
    "    ofile.close();\n",
    "    print(\"data saved at: \",ofilename);\n",
    "\n",
    "    tol = 1e-6;\n",
    "    if qt.is_converged( energies, tol=tol):\n",
    "        kp_conv = kp;\n",
    "        print(\"converged kp=\",kp_conv,\" led to a threshold smaller than \", tol)\n",
    "        break;\n",
    "        \n",
    "    energy = qt.read_finalenergy(ofilename);\n",
    "    energies.append(energy);\n",
    "\n",
    "qt.plot_wfcconv(kps,energies, \"kp_convergence.pdf\");\n",
    "\n",
    "print(\"FINISHED\")"
   ]
  },
  {
   "cell_type": "code",
   "execution_count": 14,
   "id": "champion-australia",
   "metadata": {},
   "outputs": [
    {
     "data": {
      "text/plain": [
       "array([ 1,  6, 11, 16, 21, 26])"
      ]
     },
     "execution_count": 14,
     "metadata": {},
     "output_type": "execute_result"
    }
   ],
   "source": [
    "kps"
   ]
  },
  {
   "cell_type": "code",
   "execution_count": 19,
   "id": "curious-thermal",
   "metadata": {},
   "outputs": [
    {
     "data": {
      "text/plain": [
       "16"
      ]
     },
     "execution_count": 19,
     "metadata": {},
     "output_type": "execute_result"
    }
   ],
   "source": [
    "kp_conv"
   ]
  },
  {
   "cell_type": "code",
   "execution_count": null,
   "id": "operating-samoa",
   "metadata": {},
   "outputs": [],
   "source": []
  }
 ],
 "metadata": {
  "kernelspec": {
   "display_name": "Python 3",
   "language": "python",
   "name": "python3"
  },
  "language_info": {
   "codemirror_mode": {
    "name": "ipython",
    "version": 3
   },
   "file_extension": ".py",
   "mimetype": "text/x-python",
   "name": "python",
   "nbconvert_exporter": "python",
   "pygments_lexer": "ipython3",
   "version": "3.8.6"
  }
 },
 "nbformat": 4,
 "nbformat_minor": 5
}
